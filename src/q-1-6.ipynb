{
 "cells": [
  {
   "cell_type": "markdown",
   "metadata": {},
   "source": [
    "## Handling Missing values: "
   ]
  },
  {
   "cell_type": "markdown",
   "metadata": {},
   "source": [
    "There can be various ways to handle missing values in the data set.\n",
    "<br><br>\n",
    "<b>\n",
    "1. Like Simply ignore the missing values (like ID3 and other old algorithms does) <br><br>\n",
    "2. Treat all missing values as a separate group(by filling any special symbol or something like label all missing values as \"Random\") <br><br>\n",
    "3. For categorical attribute, Find the mode of that column( attribute with the biggest number of instances ) and fill it in place of missing values. <br><br>\n",
    "4. For continuous data attribute, Find the mean or median of entire attribute and fill it in place of missing values. Then build the decision tree. <br><br>\n",
    "5. If the attribute with missing value is less important(i.e. with very less entropy), then ignore missing values from it. <br><br>\n",
    "6. If data set is large and attribute is important then ignore that row having missing value. <br><br>\n",
    "7. Decide one path to take on missing values and take always that path only (like move to left most child if missing value found). <br><br>\n",
    "8. Lazy Decision Tree (Reduced Feature Models/Known Value Strategy):- here the prediction model is constructed at testing time based on the available test instance values. This is also known as ‘Known values strategy’. During tree construction it uses only attributes whose values are known at testing. Hence it naturally handles the missing values at testing.<br><br>\n",
    "</b>\n"
   ]
  },
  {
   "cell_type": "code",
   "execution_count": null,
   "metadata": {},
   "outputs": [],
   "source": []
  },
  {
   "cell_type": "code",
   "execution_count": null,
   "metadata": {},
   "outputs": [],
   "source": []
  }
 ],
 "metadata": {
  "kernelspec": {
   "display_name": "Python 3",
   "language": "python",
   "name": "python3"
  },
  "language_info": {
   "codemirror_mode": {
    "name": "ipython",
    "version": 3
   },
   "file_extension": ".py",
   "mimetype": "text/x-python",
   "name": "python",
   "nbconvert_exporter": "python",
   "pygments_lexer": "ipython3",
   "version": "3.6.7"
  }
 },
 "nbformat": 4,
 "nbformat_minor": 2
}
