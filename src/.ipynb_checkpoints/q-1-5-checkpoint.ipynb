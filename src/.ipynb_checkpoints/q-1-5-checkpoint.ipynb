{
 "cells": [
  {
   "cell_type": "markdown",
   "metadata": {},
   "source": [
    "### Imports"
   ]
  },
  {
   "cell_type": "code",
   "execution_count": 3,
   "metadata": {},
   "outputs": [],
   "source": [
    "import numpy as np\n",
    "from math import log\n",
    "import pandas as pd\n",
    "from sklearn.model_selection import train_test_split\n",
    "import matplotlib.pyplot as plt\n",
    "import seaborn as sns\n",
    "import random\n",
    "from pprint import pprint\n",
    "from itertools import zip_longest"
   ]
  },
  {
   "cell_type": "markdown",
   "metadata": {},
   "source": [
    "### Whether all the data in a attribute is of same type"
   ]
  },
  {
   "cell_type": "code",
   "execution_count": 4,
   "metadata": {},
   "outputs": [],
   "source": [
    "def pure_data(data):\n",
    "    label_column = data[:, -1]\n",
    "    u_val = np.unique(label_column)\n",
    "    if len(u_val) == 1:\n",
    "        return True\n",
    "    else:\n",
    "        return False"
   ]
  },
  {
   "cell_type": "code",
   "execution_count": null,
   "metadata": {},
   "outputs": [],
   "source": []
  },
  {
   "cell_type": "code",
   "execution_count": 5,
   "metadata": {},
   "outputs": [],
   "source": [
    "def classifyy(data):\n",
    "    label_column = data[:, -1]\n",
    "    u_val, counts_u_val = np.unique(label_column, return_counts=True)\n",
    "    index = counts_u_val.argmax()\n",
    "    classification = u_val[index]\n",
    "#     print(u_val,\"-\" ,counts_u_val)\n",
    "    return classification"
   ]
  },
  {
   "cell_type": "markdown",
   "metadata": {},
   "source": [
    "### To find the value to split data in 2 halves"
   ]
  },
  {
   "cell_type": "code",
   "execution_count": 6,
   "metadata": {},
   "outputs": [],
   "source": [
    "def find_best_val_to_split(data):\n",
    "    best_attr_split = {}\n",
    "    _, n_columns = data.shape\n",
    "    # print( _, n_columns)\n",
    "    for cols in range(n_columns - 1):  \n",
    "        values = data[:, cols]\n",
    "        u_valss = np.unique(values)\n",
    "        type_of_feature = FEATURE_TYPES[cols]\n",
    "        if type_of_feature == \"continuous\":\n",
    "            best_attr_split[cols] = []\n",
    "            for index in range(len(u_valss)):\n",
    "                if index != 0:\n",
    "                    current_value = u_valss[index]\n",
    "                    previous_value = u_valss[index - 1]\n",
    "                    split_val = (current_value + previous_value) / 2\n",
    "                    best_attr_split[cols].append(split_val)\n",
    "\n",
    "        elif len(u_valss) > 1:\n",
    "            best_attr_split[cols] = u_valss\n",
    "    return best_attr_split"
   ]
  },
  {
   "cell_type": "markdown",
   "metadata": {},
   "source": [
    "### Splitting data into 2 parts to form tree structure"
   ]
  },
  {
   "cell_type": "code",
   "execution_count": 7,
   "metadata": {},
   "outputs": [],
   "source": [
    "def split_data(data, split_column, split_value):\n",
    "    split_column_values = data[:, split_column]\n",
    "    type_of_feature = FEATURE_TYPES[split_column]\n",
    "    if type_of_feature == \"continuous\":\n",
    "        df_left = data[split_column_values <= split_value]\n",
    "        df_right = data[split_column_values >  split_value]\n",
    "    # feature is categorical   \n",
    "    else:\n",
    "        df_left = data[split_column_values == split_value]\n",
    "        df_right = data[split_column_values != split_value]\n",
    "    \n",
    "    return df_left, df_right   "
   ]
  },
  {
   "cell_type": "markdown",
   "metadata": {},
   "source": [
    "### To find lowest entropy of columns"
   ]
  },
  {
   "cell_type": "code",
   "execution_count": 8,
   "metadata": {},
   "outputs": [],
   "source": [
    "# def misclassification(data,label):\n",
    "#     label_column = data[:, -1]\n",
    "#     _, counts = np.unique(label_column, return_counts=True)\n",
    "\n",
    "#     q_value = counts / counts.sum()\n",
    "#     entropy = -999\n",
    "#     for x in q_value:\n",
    "#         if entropy < x:\n",
    "#             entropy = x\n",
    "#     return entropy\n",
    "\n",
    "# def gini_index(data,label):\n",
    "#     label_column = data[:, -1]\n",
    "#     _, counts = np.unique(label_column, return_counts=True)\n",
    "\n",
    "#     q_value = counts / counts.sum()\n",
    "#     entropy = 0\n",
    "#     for x in q_value:\n",
    "#         entropy = x * x\n",
    "#     return entropy\n",
    "\n",
    "def calculate_entropy(data,label):\n",
    "    label_column = data[:, -1]\n",
    "    _, counts = np.unique(label_column, return_counts=True)\n",
    "    q_value = counts / counts.sum()\n",
    "    entropy = sum(q_value * -np.log2(q_value))\n",
    "    return entropy\n",
    "\n",
    "    # Gini index\n",
    "    # entropy=2*q_value*(1-q_value)\n",
    "    # return entropy[0]\n",
    "\n",
    "    # misclassification rate\n",
    "    # entropy=min(q_value[0],1-q_value[0])\n",
    "    # return entropy"
   ]
  },
  {
   "cell_type": "code",
   "execution_count": 9,
   "metadata": {},
   "outputs": [],
   "source": [
    "def total_entropy(df_left, df_right1):\n",
    "    df_right = df_right1[:]\n",
    "    n = len(df_left) + len(df_right)\n",
    "    d_left = len(df_left) / n\n",
    "    d_right = len(df_right) / n\n",
    "\n",
    "    # tot_entr =  (d_left * calculate_entropy(df_left) \n",
    "    #                   + d_right * calculate_entropy(df_right))\n",
    "    tot_entr =  (d_left * calculate_entropy(df_left,label) \n",
    "                      + d_right * calculate_entropy(df_right,label))\n",
    "    \n",
    "    return tot_entr"
   ]
  },
  {
   "cell_type": "code",
   "execution_count": 10,
   "metadata": {},
   "outputs": [],
   "source": [
    "def determine_best_split(data, best_attr_split):\n",
    "    tot_entr = 9999\n",
    "    for cols in best_attr_split:\n",
    "        for value in best_attr_split[cols]:\n",
    "            df_left, df_right = split_data(data, split_column=cols, split_value=value)\n",
    "            current_tot_entr = total_entropy(df_left, df_right)\n",
    "\n",
    "            if current_tot_entr <= tot_entr:\n",
    "                tot_entr = current_tot_entr\n",
    "                col_break = cols\n",
    "                value_break = value\n",
    "    \n",
    "    return col_break, value_break                         "
   ]
  },
  {
   "cell_type": "code",
   "execution_count": 11,
   "metadata": {},
   "outputs": [],
   "source": [
    "def determine_type_of_feature(df):\n",
    "    feature_types = []\n",
    "    threshold_for_categorical = 15\n",
    "    for feature in df.columns:\n",
    "        if feature != \"label\":\n",
    "            unique_values = df[feature].unique()\n",
    "            example_value = unique_values[0]\n",
    "            if (isinstance(example_value, str)) or (len(unique_values) <= threshold_for_categorical):\n",
    "                feature_types.append(\"categorical\")\n",
    "            else:\n",
    "                feature_types.append(\"continuous\")\n",
    "    \n",
    "    return feature_types"
   ]
  },
  {
   "cell_type": "code",
   "execution_count": 12,
   "metadata": {},
   "outputs": [
    {
     "name": "stderr",
     "output_type": "stream",
     "text": [
      "/usr/lib/python3/dist-packages/ipykernel_launcher.py:66: SettingWithCopyWarning: \n",
      "A value is trying to be set on a copy of a slice from a DataFrame.\n",
      "Try using .loc[row_indexer,col_indexer] = value instead\n",
      "\n",
      "See the caveats in the documentation: http://pandas.pydata.org/pandas-docs/stable/indexing.html#indexing-view-versus-copy\n",
      "/usr/lib/python3/dist-packages/ipykernel_launcher.py:87: SettingWithCopyWarning: \n",
      "A value is trying to be set on a copy of a slice from a DataFrame.\n",
      "Try using .loc[row_indexer,col_indexer] = value instead\n",
      "\n",
      "See the caveats in the documentation: http://pandas.pydata.org/pandas-docs/stable/indexing.html#indexing-view-versus-copy\n",
      "/usr/lib/python3/dist-packages/ipykernel_launcher.py:92: SettingWithCopyWarning: \n",
      "A value is trying to be set on a copy of a slice from a DataFrame.\n",
      "Try using .loc[row_indexer,col_indexer] = value instead\n",
      "\n",
      "See the caveats in the documentation: http://pandas.pydata.org/pandas-docs/stable/indexing.html#indexing-view-versus-copy\n"
     ]
    }
   ],
   "source": [
    "count=0\n",
    "def Make_dec_tree(df, counter=0, min_samples=2, max_depth=5):\n",
    "    global count\n",
    "    count+=1\n",
    "    if counter == 0:\n",
    "        global COLUMN_HEADERS, FEATURE_TYPES\n",
    "        COLUMN_HEADERS = df.columns\n",
    "        FEATURE_TYPES = determine_type_of_feature(df)\n",
    "        data = df.values\n",
    "    else:\n",
    "        data = df           \n",
    "    \n",
    "    if (pure_data(data)) or (len(data) < min_samples) or (counter == max_depth):\n",
    "        classification = classifyy(data)\n",
    "        return classification\n",
    "\n",
    "    else:    \n",
    "        counter += 1\n",
    "        best_attr_split = find_best_val_to_split(data)\n",
    "        split_column, split_value = determine_best_split(data, best_attr_split)\n",
    "        data_below, data_above = split_data(data, split_column, split_value)\n",
    "        feature_name = COLUMN_HEADERS[split_column]\n",
    "        type_of_feature = FEATURE_TYPES[split_column]\n",
    "        if type_of_feature == \"continuous\":\n",
    "            question = \"{} <= {}\".format(feature_name, split_value)\n",
    "        else:\n",
    "            question = \"{} = {}\".format(feature_name, split_value)\n",
    "        sub_tree = {question: []}\n",
    "        yes_answer = Make_dec_tree(data_below, counter, min_samples, max_depth)\n",
    "        no_answer = Make_dec_tree(data_above, counter, min_samples, max_depth)\n",
    "        if yes_answer == no_answer:\n",
    "            sub_tree = yes_answer\n",
    "        else:\n",
    "            sub_tree[question].append(yes_answer)\n",
    "            sub_tree[question].append(no_answer)\n",
    "        \n",
    "        return sub_tree\n",
    "    \n",
    "def classification_example(example, tree):\n",
    "    question = list(tree.keys())[0]\n",
    "    feature_name, compare, value = question.split(\" \")\n",
    "\n",
    "    if compare == \"<=\":\n",
    "        if example[feature_name] <= float(value):\n",
    "            answer = tree[question][0]\n",
    "        else:\n",
    "            answer = tree[question][1]\n",
    "    \n",
    "    else:\n",
    "        if str(example[feature_name]) == value:\n",
    "            answer = tree[question][0]\n",
    "        else:\n",
    "            answer = tree[question][1]\n",
    "\n",
    "    if not isinstance(answer, dict):\n",
    "        return answer\n",
    "    \n",
    "    else:\n",
    "        rest_tree = answer\n",
    "        return classification_example(example, rest_tree)\n",
    "\n",
    "\n",
    "def all_calculations(df, tree):\n",
    "    correct,TP,FP,FN,TN=0,0,0,0,0\n",
    "    # global correct,TP,FP,FN\n",
    "    df[\"classification\"] = df.apply(classification_example, args=(tree,), axis=1)\n",
    "    # print(df[\"classification\"])\n",
    "    for value, left in zip_longest(df[\"classification\"],df['left']):\n",
    "        if value == left:\n",
    "            if left == 0:\n",
    "                TN += 1\n",
    "            else:\n",
    "                TP += 1\n",
    "    else:\n",
    "        if left == 0:\n",
    "            FP += 1\n",
    "        else:\n",
    "            FN += 1\n",
    "            \n",
    "    x = (TP+FN)\n",
    "    y = (TP+FP)\n",
    "    if x:\n",
    "        rc=TP/x\n",
    "    if y:\n",
    "        pc=TP/y\n",
    "    f1=(2*rc*pc)/(rc+pc)\n",
    "    df[\"classification_correct\"] = df[\"classification\"] == df[\"left\"]  \n",
    "    accuracy = df[\"classification_correct\"].mean()\n",
    "    return accuracy,TP,FP,FN,TN,rc,pc,f1\n",
    "\n",
    "def predicts(df, tree):\n",
    "    df[\"classification\"] = df.apply(classification_example, args=(tree,), axis=1)\n",
    "    # print(df[\"classification\"])\n",
    "#     df[\"classification_correct\"] = df[\"classification\"] == df[\"left\"]  \n",
    "    return df[\"classification\"] \n",
    "\n",
    "df = pd.read_csv(\"../input_data/train1.csv\")\n",
    "# df = df.rename(columns={\"left\": \"label\"})\n",
    "# random.seed(0)\n",
    "label = \"left\"\n",
    "\n",
    "train_df, test_df = train_test_split(df, test_size=0.2)\n",
    "tree = Make_dec_tree(train_df, max_depth=25)\n",
    "accuracy,TP,FP,FN,TN,rc,pc,f1= all_calculations(test_df, tree)\n",
    "# TP = calculate_accuracy(test_df, tree)\n",
    "# FP = calculate_accuracy(test_df, tree)\n",
    "# FN = calculate_accuracy(test_df, tree)\n",
    "pp = predicts(test_df, tree)\n",
    "# print(pp)\n",
    "# question = list(tree.keys())[0]\n",
    "# print(question)\n",
    "# pprint(tree, width=100)\n",
    "# print(tree)\n",
    "# print(\"\\nThe accuracy is: \", accuracy)\n",
    "# print(TP)\n",
    "# print(FP)\n",
    "# print(FN)\n",
    "# print(TN)\n",
    "# print(\"\\nRecall: \", rc)\n",
    "# print(\"\\nPrecision: \", pc)\n",
    "# print(\"\\nF1-Score: \", f1)\n",
    "\n",
    "\n"
   ]
  },
  {
   "cell_type": "code",
   "execution_count": 13,
   "metadata": {},
   "outputs": [],
   "source": [
    "# xx=sns.pairplot(train_df, hue=\"salary\")"
   ]
  },
  {
   "cell_type": "code",
   "execution_count": 14,
   "metadata": {},
   "outputs": [],
   "source": [
    "def node_count():\n",
    "    global count\n",
    "    count = 0\n",
    "    acc=[]\n",
    "    acctrain=[]\n",
    "    noofnodes=[]\n",
    "    depth=[]\n",
    "    for i in range(5):\n",
    "        count =0\n",
    "        t=Make_dec_tree(df,0,2,i+1)\n",
    "        noofnodes.append(count)\n",
    "        depth.append(i+1)\n",
    "        accu,TP,FP,FN,TN,rc,pc,f1= all_calculations(test_df, t)\n",
    "        accu1,tp1,fp1,fn1,tn1,rc1,pc1,f11=all_calculations(train_df,t)\n",
    "        acc.append(accu)\n",
    "        acctrain.append(accu1)\n",
    "        \n",
    "    return acc,noofnodes,depth,acctrain\n",
    "        \n",
    "    "
   ]
  },
  {
   "cell_type": "code",
   "execution_count": 15,
   "metadata": {},
   "outputs": [
    {
     "name": "stderr",
     "output_type": "stream",
     "text": [
      "/usr/lib/python3/dist-packages/ipykernel_launcher.py:66: SettingWithCopyWarning: \n",
      "A value is trying to be set on a copy of a slice from a DataFrame.\n",
      "Try using .loc[row_indexer,col_indexer] = value instead\n",
      "\n",
      "See the caveats in the documentation: http://pandas.pydata.org/pandas-docs/stable/indexing.html#indexing-view-versus-copy\n",
      "/usr/lib/python3/dist-packages/ipykernel_launcher.py:87: SettingWithCopyWarning: \n",
      "A value is trying to be set on a copy of a slice from a DataFrame.\n",
      "Try using .loc[row_indexer,col_indexer] = value instead\n",
      "\n",
      "See the caveats in the documentation: http://pandas.pydata.org/pandas-docs/stable/indexing.html#indexing-view-versus-copy\n"
     ]
    }
   ],
   "source": [
    "acc,noc,det,acctrain = node_count()"
   ]
  },
  {
   "cell_type": "code",
   "execution_count": 16,
   "metadata": {},
   "outputs": [
    {
     "data": {
      "text/plain": [
       "[3, 7, 13, 25, 43]"
      ]
     },
     "execution_count": 16,
     "metadata": {},
     "output_type": "execute_result"
    }
   ],
   "source": [
    "noc"
   ]
  },
  {
   "cell_type": "code",
   "execution_count": 21,
   "metadata": {},
   "outputs": [
    {
     "data": {
      "text/plain": [
       "[0.826067615658363,\n",
       " 0.847864768683274,\n",
       " 0.9470640569395018,\n",
       " 0.9653024911032029,\n",
       " 0.974644128113879]"
      ]
     },
     "execution_count": 21,
     "metadata": {},
     "output_type": "execute_result"
    }
   ],
   "source": [
    "acc"
   ]
  },
  {
   "cell_type": "code",
   "execution_count": 22,
   "metadata": {},
   "outputs": [
    {
     "data": {
      "text/plain": [
       "[0.8194660734149054,\n",
       " 0.8482758620689655,\n",
       " 0.9502780867630701,\n",
       " 0.9667408231368186,\n",
       " 0.9746384872080089]"
      ]
     },
     "execution_count": 22,
     "metadata": {},
     "output_type": "execute_result"
    }
   ],
   "source": [
    "acctrain"
   ]
  },
  {
   "cell_type": "markdown",
   "metadata": {},
   "source": [
    "### Plot of No. of nodes vs Error"
   ]
  },
  {
   "cell_type": "code",
   "execution_count": 23,
   "metadata": {},
   "outputs": [
    {
     "data": {
      "image/png": "[encoded data removed]",
      "text/plain": [
       "<Figure size 432x288 with 1 Axes>"
      ]
     },
     "metadata": {},
     "output_type": "display_data"
    }
   ],
   "source": [
    "import matplotlib.pyplot as plt \n",
    "  \n",
    "x = noc \n",
    "y = acc\n",
    "z = acctrain\n",
    "y1=[]\n",
    "y2=[]\n",
    "for xx in y:\n",
    "    y1.append(1-xx)\n",
    "for kk in z:\n",
    "    y2.append(1-kk)\n",
    "plt.plot(x, y1, label = \"Validation data\")  \n",
    "plt.plot(x, y2, label = \"Training data\")  \n",
    "plt.xlabel('Number of nodes') \n",
    "plt.ylabel('Error') \n",
    "plt.legend() \n",
    "plt.title('Number of nodes V/s Error!') \n",
    "plt.show() "
   ]
  },
  {
   "cell_type": "markdown",
   "metadata": {},
   "source": [
    "### Plot of Depth vs Error"
   ]
  },
  {
   "cell_type": "code",
   "execution_count": 24,
   "metadata": {},
   "outputs": [
    {
     "data": {
      "image/png": "[encoded data removed]",
      "text/plain": [
       "<Figure size 432x288 with 1 Axes>"
      ]
     },
     "metadata": {},
     "output_type": "display_data"
    }
   ],
   "source": [
    "import matplotlib.pyplot as plt \n",
    "\n",
    "x = det \n",
    "y = acc\n",
    "y1=[]\n",
    "y2=[]\n",
    "for xx in y:\n",
    "    y1.append(1-xx)\n",
    "for kk in z:\n",
    "    y2.append(1-kk)\n",
    "plt.plot(x, y1, label = \"Validation data\")  \n",
    "plt.plot(x, y2, label = \"Training data\")  \n",
    "plt.xlabel('Depth') \n",
    "plt.ylabel('Error') \n",
    "\n",
    "plt.title('Depth of tree V/s Error!') \n",
    "plt.show() "
   ]
  },
  {
   "cell_type": "code",
   "execution_count": null,
   "metadata": {},
   "outputs": [],
   "source": []
  }
 ],
 "metadata": {
  "kernelspec": {
   "display_name": "Python 3",
   "language": "python",
   "name": "python3"
  },
  "language_info": {
   "codemirror_mode": {
    "name": "ipython",
    "version": 3
   },
   "file_extension": ".py",
   "mimetype": "text/x-python",
   "name": "python",
   "nbconvert_exporter": "python",
   "pygments_lexer": "ipython3",
   "version": "3.6.7"
  }
 },
 "nbformat": 4,
 "nbformat_minor": 2
}
